{
 "cells": [
  {
   "cell_type": "markdown",
   "metadata": {},
   "source": [
    "# 1. DATA\n",
    "You can dowload this here https://github.com/congnghia0609/ntc-scv.git"
   ]
  },
  {
   "cell_type": "code",
   "execution_count": 3,
   "metadata": {},
   "outputs": [
    {
     "name": "stderr",
     "output_type": "stream",
     "text": [
      "fatal: destination path 'ntc-scv' already exists and is not an empty directory.\n"
     ]
    }
   ],
   "source": [
    "!git clone https://github.com/congnghia0609/ntc-scv.git"
   ]
  },
  {
   "cell_type": "markdown",
   "metadata": {},
   "source": [
    "# 2. PREPARE TRAIN, VALID, TEST DATASET"
   ]
  },
  {
   "cell_type": "code",
   "execution_count": 4,
   "metadata": {},
   "outputs": [],
   "source": [
    "import os\n",
    "import pandas as pd\n",
    "\n",
    "def load_data_from_path(folder_path):\n",
    "    examples = []\n",
    "    for label in os.listdir(folder_path):\n",
    "        full_path = os.path.join(folder_path, label)\n",
    "        for file_name in os.listdir(full_path):\n",
    "            file_path = os.path.join(full_path, file_name)\n",
    "            with open(file_path, 'r', encoding='utf-8') as f:\n",
    "                lines = f.readlines()\n",
    "            sentence = \" \".join(lines)\n",
    "            if label == 'neg':\n",
    "                label = 0\n",
    "            if label == 'pos':\n",
    "                label = 1\n",
    "            data = {\n",
    "                'sentence' : sentence,\n",
    "                'label': label\n",
    "            }\n",
    "            examples.append(data)\n",
    "    return pd.DataFrame(examples)\n"
   ]
  },
  {
   "cell_type": "code",
   "execution_count": 5,
   "metadata": {},
   "outputs": [],
   "source": [
    "folder_paths = {\n",
    "    'train': './ntc-scv/data/data_train/train',\n",
    "    'valid': './ntc-scv/data/data_train/test',\n",
    "    'test': './ntc-scv/data/data_test/test'\n",
    "}\n",
    "\n",
    "train_df = load_data_from_path(folder_paths['train'])\n",
    "valid_df = load_data_from_path(folder_paths['valid'])\n",
    "test_df = load_data_from_path(folder_paths['test'])"
   ]
  },
  {
   "cell_type": "code",
   "execution_count": 6,
   "metadata": {},
   "outputs": [
    {
     "data": {
      "text/html": [
       "<div>\n",
       "<style scoped>\n",
       "    .dataframe tbody tr th:only-of-type {\n",
       "        vertical-align: middle;\n",
       "    }\n",
       "\n",
       "    .dataframe tbody tr th {\n",
       "        vertical-align: top;\n",
       "    }\n",
       "\n",
       "    .dataframe thead th {\n",
       "        text-align: right;\n",
       "    }\n",
       "</style>\n",
       "<table border=\"1\" class=\"dataframe\">\n",
       "  <thead>\n",
       "    <tr style=\"text-align: right;\">\n",
       "      <th></th>\n",
       "      <th>sentence</th>\n",
       "      <th>label</th>\n",
       "    </tr>\n",
       "  </thead>\n",
       "  <tbody>\n",
       "    <tr>\n",
       "      <th>0</th>\n",
       "      <td>Mua có mỗi Bingsu thập_cẩm 45k mà mình f đợi h...</td>\n",
       "      <td>0</td>\n",
       "    </tr>\n",
       "    <tr>\n",
       "      <th>1</th>\n",
       "      <td>Thứ 6 nào ta cùng quẩy 💣 💣 💣\\n Vuvuzela beer c...</td>\n",
       "      <td>0</td>\n",
       "    </tr>\n",
       "    <tr>\n",
       "      <th>2</th>\n",
       "      <td>Mình đi với nhóm , tổng_cộng 4 người ăn chỉ có...</td>\n",
       "      <td>0</td>\n",
       "    </tr>\n",
       "    <tr>\n",
       "      <th>3</th>\n",
       "      <td>nhân_viên phục_vụ không mấy tận_tình , đồ_ăn r...</td>\n",
       "      <td>0</td>\n",
       "    </tr>\n",
       "    <tr>\n",
       "      <th>4</th>\n",
       "      <td>Vào đây thì hết bàn , nhưng mình vẫn ngồi đợi ...</td>\n",
       "      <td>0</td>\n",
       "    </tr>\n",
       "    <tr>\n",
       "      <th>5</th>\n",
       "      <td>Hôm_nay đến aeon có ghé vào quán . Món ăn cũng...</td>\n",
       "      <td>0</td>\n",
       "    </tr>\n",
       "    <tr>\n",
       "      <th>6</th>\n",
       "      <td>Mình vào lúc 8h tối , cũng không đông khách lắ...</td>\n",
       "      <td>0</td>\n",
       "    </tr>\n",
       "    <tr>\n",
       "      <th>7</th>\n",
       "      <td>Thức_ăn quá_đỗi bình_thường , miếng xôi của bạ...</td>\n",
       "      <td>0</td>\n",
       "    </tr>\n",
       "    <tr>\n",
       "      <th>8</th>\n",
       "      <td>Mình thấy quán này rất được , nhân_viên phục_v...</td>\n",
       "      <td>0</td>\n",
       "    </tr>\n",
       "    <tr>\n",
       "      <th>9</th>\n",
       "      <td>Hôm_qua đi ăn cùng 7 chị ở công_ty . Quảng_cáo...</td>\n",
       "      <td>0</td>\n",
       "    </tr>\n",
       "  </tbody>\n",
       "</table>\n",
       "</div>"
      ],
      "text/plain": [
       "                                            sentence  label\n",
       "0  Mua có mỗi Bingsu thập_cẩm 45k mà mình f đợi h...      0\n",
       "1  Thứ 6 nào ta cùng quẩy 💣 💣 💣\\n Vuvuzela beer c...      0\n",
       "2  Mình đi với nhóm , tổng_cộng 4 người ăn chỉ có...      0\n",
       "3  nhân_viên phục_vụ không mấy tận_tình , đồ_ăn r...      0\n",
       "4  Vào đây thì hết bàn , nhưng mình vẫn ngồi đợi ...      0\n",
       "5  Hôm_nay đến aeon có ghé vào quán . Món ăn cũng...      0\n",
       "6  Mình vào lúc 8h tối , cũng không đông khách lắ...      0\n",
       "7  Thức_ăn quá_đỗi bình_thường , miếng xôi của bạ...      0\n",
       "8  Mình thấy quán này rất được , nhân_viên phục_v...      0\n",
       "9  Hôm_qua đi ăn cùng 7 chị ở công_ty . Quảng_cáo...      0"
      ]
     },
     "execution_count": 6,
     "metadata": {},
     "output_type": "execute_result"
    }
   ],
   "source": [
    "train_df.head(10)"
   ]
  },
  {
   "cell_type": "markdown",
   "metadata": {},
   "source": [
    "# 3. PREPROCESSING TEXT DATA"
   ]
  },
  {
   "cell_type": "markdown",
   "metadata": {},
   "source": [
    "## 3.1 Language Detection"
   ]
  },
  {
   "cell_type": "code",
   "execution_count": 7,
   "metadata": {},
   "outputs": [],
   "source": [
    "from langid.langid import LanguageIdentifier, model\n",
    "\n",
    "def identify_vn(df):\n",
    "    identifier = LanguageIdentifier.from_modelstring(model, norm_probs = True)\n",
    "    not_vi_idx = set()\n",
    "    THRESHOLD = 0.9 #  Remove if probability of Vietnamese <= 0.9\n",
    "    for idx, row in df.iterrows():\n",
    "        score = identifier.classify(row['sentence'])\n",
    "        if score[0] != 'vi' or (score[0] == 'vi' and score[1] <= THRESHOLD):\n",
    "            not_vi_idx.add(idx)\n",
    "    vi_df = df[~df.index.isin(not_vi_idx)]\n",
    "    not_vi_df = df[df.index.isin(not_vi_idx)]\n",
    "    return vi_df, not_vi_df"
   ]
  },
  {
   "cell_type": "code",
   "execution_count": 8,
   "metadata": {},
   "outputs": [],
   "source": [
    "# classifer if a sample is written by vietnamese or other language\n",
    "train_df_vi, train_df_other = identify_vn(train_df)"
   ]
  },
  {
   "cell_type": "code",
   "execution_count": 9,
   "metadata": {},
   "outputs": [
    {
     "data": {
      "text/html": [
       "<div>\n",
       "<style scoped>\n",
       "    .dataframe tbody tr th:only-of-type {\n",
       "        vertical-align: middle;\n",
       "    }\n",
       "\n",
       "    .dataframe tbody tr th {\n",
       "        vertical-align: top;\n",
       "    }\n",
       "\n",
       "    .dataframe thead th {\n",
       "        text-align: right;\n",
       "    }\n",
       "</style>\n",
       "<table border=\"1\" class=\"dataframe\">\n",
       "  <thead>\n",
       "    <tr style=\"text-align: right;\">\n",
       "      <th></th>\n",
       "      <th>sentence</th>\n",
       "      <th>label</th>\n",
       "    </tr>\n",
       "  </thead>\n",
       "  <tbody>\n",
       "    <tr>\n",
       "      <th>0</th>\n",
       "      <td>Mua có mỗi Bingsu thập_cẩm 45k mà mình f đợi h...</td>\n",
       "      <td>0</td>\n",
       "    </tr>\n",
       "    <tr>\n",
       "      <th>1</th>\n",
       "      <td>Thứ 6 nào ta cùng quẩy 💣 💣 💣\\n Vuvuzela beer c...</td>\n",
       "      <td>0</td>\n",
       "    </tr>\n",
       "    <tr>\n",
       "      <th>2</th>\n",
       "      <td>Mình đi với nhóm , tổng_cộng 4 người ăn chỉ có...</td>\n",
       "      <td>0</td>\n",
       "    </tr>\n",
       "    <tr>\n",
       "      <th>3</th>\n",
       "      <td>nhân_viên phục_vụ không mấy tận_tình , đồ_ăn r...</td>\n",
       "      <td>0</td>\n",
       "    </tr>\n",
       "    <tr>\n",
       "      <th>4</th>\n",
       "      <td>Vào đây thì hết bàn , nhưng mình vẫn ngồi đợi ...</td>\n",
       "      <td>0</td>\n",
       "    </tr>\n",
       "    <tr>\n",
       "      <th>...</th>\n",
       "      <td>...</td>\n",
       "      <td>...</td>\n",
       "    </tr>\n",
       "    <tr>\n",
       "      <th>29995</th>\n",
       "      <td>2-9 mình đi với nhóm bạn tổng_cộng là 8ng.Thiệ...</td>\n",
       "      <td>1</td>\n",
       "    </tr>\n",
       "    <tr>\n",
       "      <th>29996</th>\n",
       "      <td>sushi bình_dân mà chất_lượng không bình_dân ch...</td>\n",
       "      <td>1</td>\n",
       "    </tr>\n",
       "    <tr>\n",
       "      <th>29997</th>\n",
       "      <td>Trời_ơi từ bé đến lớn chưa thử món kem nào bằn...</td>\n",
       "      <td>1</td>\n",
       "    </tr>\n",
       "    <tr>\n",
       "      <th>29998</th>\n",
       "      <td>Nge mn cũng ns ngon nên hni đến coi thế_nào .\\...</td>\n",
       "      <td>1</td>\n",
       "    </tr>\n",
       "    <tr>\n",
       "      <th>29999</th>\n",
       "      <td>Ks đẹp . Thoág mát . Lại gần vs phố cổ nữa nên...</td>\n",
       "      <td>1</td>\n",
       "    </tr>\n",
       "  </tbody>\n",
       "</table>\n",
       "<p>29736 rows × 2 columns</p>\n",
       "</div>"
      ],
      "text/plain": [
       "                                                sentence  label\n",
       "0      Mua có mỗi Bingsu thập_cẩm 45k mà mình f đợi h...      0\n",
       "1      Thứ 6 nào ta cùng quẩy 💣 💣 💣\\n Vuvuzela beer c...      0\n",
       "2      Mình đi với nhóm , tổng_cộng 4 người ăn chỉ có...      0\n",
       "3      nhân_viên phục_vụ không mấy tận_tình , đồ_ăn r...      0\n",
       "4      Vào đây thì hết bàn , nhưng mình vẫn ngồi đợi ...      0\n",
       "...                                                  ...    ...\n",
       "29995  2-9 mình đi với nhóm bạn tổng_cộng là 8ng.Thiệ...      1\n",
       "29996  sushi bình_dân mà chất_lượng không bình_dân ch...      1\n",
       "29997  Trời_ơi từ bé đến lớn chưa thử món kem nào bằn...      1\n",
       "29998  Nge mn cũng ns ngon nên hni đến coi thế_nào .\\...      1\n",
       "29999  Ks đẹp . Thoág mát . Lại gần vs phố cổ nữa nên...      1\n",
       "\n",
       "[29736 rows x 2 columns]"
      ]
     },
     "execution_count": 9,
     "metadata": {},
     "output_type": "execute_result"
    }
   ],
   "source": [
    "# vietnamese sentences\n",
    "train_df_vi"
   ]
  },
  {
   "cell_type": "code",
   "execution_count": 10,
   "metadata": {},
   "outputs": [
    {
     "data": {
      "text/html": [
       "<div>\n",
       "<style scoped>\n",
       "    .dataframe tbody tr th:only-of-type {\n",
       "        vertical-align: middle;\n",
       "    }\n",
       "\n",
       "    .dataframe tbody tr th {\n",
       "        vertical-align: top;\n",
       "    }\n",
       "\n",
       "    .dataframe thead th {\n",
       "        text-align: right;\n",
       "    }\n",
       "</style>\n",
       "<table border=\"1\" class=\"dataframe\">\n",
       "  <thead>\n",
       "    <tr style=\"text-align: right;\">\n",
       "      <th></th>\n",
       "      <th>sentence</th>\n",
       "      <th>label</th>\n",
       "    </tr>\n",
       "  </thead>\n",
       "  <tbody>\n",
       "    <tr>\n",
       "      <th>446</th>\n",
       "      <td>Minh da den them 1 lan vao buoi trua ma van do...</td>\n",
       "      <td>0</td>\n",
       "    </tr>\n",
       "    <tr>\n",
       "      <th>523</th>\n",
       "      <td>The drink taste not good as Shanghai . The tas...</td>\n",
       "      <td>0</td>\n",
       "    </tr>\n",
       "    <tr>\n",
       "      <th>582</th>\n",
       "      <td>I work in District 1 not far from Taco_King . ...</td>\n",
       "      <td>0</td>\n",
       "    </tr>\n",
       "    <tr>\n",
       "      <th>802</th>\n",
       "      <td>Service is worst . . waiter and waitress messi...</td>\n",
       "      <td>0</td>\n",
       "    </tr>\n",
       "    <tr>\n",
       "      <th>809</th>\n",
       "      <td>Day la lan dau cung nhu lan cuoi minh ghe quan...</td>\n",
       "      <td>0</td>\n",
       "    </tr>\n",
       "    <tr>\n",
       "      <th>...</th>\n",
       "      <td>...</td>\n",
       "      <td>...</td>\n",
       "    </tr>\n",
       "    <tr>\n",
       "      <th>29571</th>\n",
       "      <td>We had high expectations of this place and my ...</td>\n",
       "      <td>1</td>\n",
       "    </tr>\n",
       "    <tr>\n",
       "      <th>29687</th>\n",
       "      <td>My name is Luan ,   A_Local_Travel_Consultant ...</td>\n",
       "      <td>1</td>\n",
       "    </tr>\n",
       "    <tr>\n",
       "      <th>29757</th>\n",
       "      <td>Art of lanterns , super nice and acceptable pr...</td>\n",
       "      <td>1</td>\n",
       "    </tr>\n",
       "    <tr>\n",
       "      <th>29853</th>\n",
       "      <td>The 200k buffet is really worth it ! Good meat...</td>\n",
       "      <td>1</td>\n",
       "    </tr>\n",
       "    <tr>\n",
       "      <th>29940</th>\n",
       "      <td>Brilliant juices ! ! They have some mixes that...</td>\n",
       "      <td>1</td>\n",
       "    </tr>\n",
       "  </tbody>\n",
       "</table>\n",
       "<p>264 rows × 2 columns</p>\n",
       "</div>"
      ],
      "text/plain": [
       "                                                sentence  label\n",
       "446    Minh da den them 1 lan vao buoi trua ma van do...      0\n",
       "523    The drink taste not good as Shanghai . The tas...      0\n",
       "582    I work in District 1 not far from Taco_King . ...      0\n",
       "802    Service is worst . . waiter and waitress messi...      0\n",
       "809    Day la lan dau cung nhu lan cuoi minh ghe quan...      0\n",
       "...                                                  ...    ...\n",
       "29571  We had high expectations of this place and my ...      1\n",
       "29687  My name is Luan ,   A_Local_Travel_Consultant ...      1\n",
       "29757  Art of lanterns , super nice and acceptable pr...      1\n",
       "29853  The 200k buffet is really worth it ! Good meat...      1\n",
       "29940  Brilliant juices ! ! They have some mixes that...      1\n",
       "\n",
       "[264 rows x 2 columns]"
      ]
     },
     "execution_count": 10,
     "metadata": {},
     "output_type": "execute_result"
    }
   ],
   "source": [
    "#other language sentences\n",
    "train_df_other"
   ]
  },
  {
   "cell_type": "markdown",
   "metadata": {},
   "source": [
    "## 3.2 Preprocessing - Remove special symbol and character\n",
    "1. link https\n",
    "2. html tag\n",
    "3. punctuation and digits\n",
    "4. emoji"
   ]
  },
  {
   "cell_type": "code",
   "execution_count": 11,
   "metadata": {},
   "outputs": [],
   "source": [
    "import re\n",
    "import string\n",
    "\n",
    "def preprocess_text(text):\n",
    "\n",
    "    url_pattern = re.compile(r'https?://\\s+\\wwww\\.\\s+')\n",
    "    text = url_pattern.sub(r\" \", text)\n",
    "\n",
    "    html_pattern = re.compile(r'<[^<>]+>')\n",
    "    text = html_pattern.sub(\" \", text)\n",
    "\n",
    "    replace_chars = list(string.punctuation + string.digits)\n",
    "    for char in replace_chars:\n",
    "        text = text.replace(char, \" \")\n",
    "\n",
    "    emoji_pattern = re.compile(\"[\"\n",
    "        u\"\\U0001F600-\\U0001F64F\"  # emoticons\n",
    "        u\"\\U0001F300-\\U0001F5FF\"  # symbols & pictographs\n",
    "        u\"\\U0001F680-\\U0001F6FF\"  # transport & map symbols\n",
    "        u\"\\U0001F1E0-\\U0001F1FF\"  # flags (iOS)\n",
    "        u\"\\U0001F1F2-\\U0001F1F4\"  # Macau flag\n",
    "        u\"\\U0001F1E6-\\U0001F1FF\"  # flags\n",
    "        u\"\\U0001F600-\\U0001F64F\"\n",
    "        u\"\\U00002702-\\U000027B0\"\n",
    "        u\"\\U000024C2-\\U0001F251\"\n",
    "        u\"\\U0001f926-\\U0001f937\"\n",
    "        u\"\\U0001F1F2\"\n",
    "        u\"\\U0001F1F4\"\n",
    "        u\"\\U0001F620\"\n",
    "        u\"\\u200d\"\n",
    "        u\"\\u2640-\\u2642\"\n",
    "        \"]+\", flags=re.UNICODE)\n",
    "    text = emoji_pattern.sub(r\" \", text)\n",
    "\n",
    "    text = \" \".join(text.split())\n",
    "\n",
    "    return text.lower()"
   ]
  },
  {
   "cell_type": "code",
   "execution_count": 12,
   "metadata": {},
   "outputs": [
    {
     "data": {
      "text/plain": [
       "'Mua có mỗi Bingsu thập_cẩm 45k mà mình f đợi hơn 20 \\' . Hỏi lại thì nv tl có r nhg bảo chờ thêm 15 \\' nữa \" tụi e lm liền \" .\\n Mình k biết có ngon k nhg cũng muốn ăn thử . Thiết_nghĩ nv quán nên xem_lại cách pv và nc vs khách .\\n'"
      ]
     },
     "execution_count": 12,
     "metadata": {},
     "output_type": "execute_result"
    }
   ],
   "source": [
    "train_df_vi['sentence'][0]"
   ]
  },
  {
   "cell_type": "code",
   "execution_count": 13,
   "metadata": {},
   "outputs": [
    {
     "data": {
      "text/plain": [
       "'mua có mỗi bingsu thập cẩm k mà mình f đợi hơn hỏi lại thì nv tl có r nhg bảo chờ thêm nữa tụi e lm liền mình k biết có ngon k nhg cũng muốn ăn thử thiết nghĩ nv quán nên xem lại cách pv và nc vs khách'"
      ]
     },
     "execution_count": 13,
     "metadata": {},
     "output_type": "execute_result"
    }
   ],
   "source": [
    "# sentence after remove special character\n",
    "preprocess_text(train_df_vi['sentence'][0])"
   ]
  },
  {
   "cell_type": "code",
   "execution_count": 14,
   "metadata": {},
   "outputs": [
    {
     "name": "stderr",
     "output_type": "stream",
     "text": [
      "C:\\Users\\TAN\\AppData\\Local\\Temp\\ipykernel_19800\\1058621333.py:1: SettingWithCopyWarning: \n",
      "A value is trying to be set on a copy of a slice from a DataFrame.\n",
      "Try using .loc[row_indexer,col_indexer] = value instead\n",
      "\n",
      "See the caveats in the documentation: https://pandas.pydata.org/pandas-docs/stable/user_guide/indexing.html#returning-a-view-versus-a-copy\n",
      "  train_df_vi['preprocess_sentence'] = [preprocess_text(row['sentence']) for index, row in train_df_vi.iterrows()]\n"
     ]
    }
   ],
   "source": [
    "train_df_vi['preprocess_sentence'] = [preprocess_text(row['sentence']) for index, row in train_df_vi.iterrows()]\n",
    "valid_df['preprocess_sentence'] = [preprocess_text(row['sentence']) for index, row in valid_df.iterrows()]\n",
    "test_df['preprocess_sentence'] = [preprocess_text(row['sentence']) for index, row in test_df.iterrows()]"
   ]
  },
  {
   "cell_type": "code",
   "execution_count": 15,
   "metadata": {},
   "outputs": [
    {
     "data": {
      "text/html": [
       "<div>\n",
       "<style scoped>\n",
       "    .dataframe tbody tr th:only-of-type {\n",
       "        vertical-align: middle;\n",
       "    }\n",
       "\n",
       "    .dataframe tbody tr th {\n",
       "        vertical-align: top;\n",
       "    }\n",
       "\n",
       "    .dataframe thead th {\n",
       "        text-align: right;\n",
       "    }\n",
       "</style>\n",
       "<table border=\"1\" class=\"dataframe\">\n",
       "  <thead>\n",
       "    <tr style=\"text-align: right;\">\n",
       "      <th></th>\n",
       "      <th>sentence</th>\n",
       "      <th>label</th>\n",
       "    </tr>\n",
       "  </thead>\n",
       "  <tbody>\n",
       "    <tr>\n",
       "      <th>0</th>\n",
       "      <td>Mua có mỗi Bingsu thập_cẩm 45k mà mình f đợi h...</td>\n",
       "      <td>0</td>\n",
       "    </tr>\n",
       "    <tr>\n",
       "      <th>1</th>\n",
       "      <td>Thứ 6 nào ta cùng quẩy 💣 💣 💣\\n Vuvuzela beer c...</td>\n",
       "      <td>0</td>\n",
       "    </tr>\n",
       "    <tr>\n",
       "      <th>2</th>\n",
       "      <td>Mình đi với nhóm , tổng_cộng 4 người ăn chỉ có...</td>\n",
       "      <td>0</td>\n",
       "    </tr>\n",
       "    <tr>\n",
       "      <th>3</th>\n",
       "      <td>nhân_viên phục_vụ không mấy tận_tình , đồ_ăn r...</td>\n",
       "      <td>0</td>\n",
       "    </tr>\n",
       "    <tr>\n",
       "      <th>4</th>\n",
       "      <td>Vào đây thì hết bàn , nhưng mình vẫn ngồi đợi ...</td>\n",
       "      <td>0</td>\n",
       "    </tr>\n",
       "    <tr>\n",
       "      <th>...</th>\n",
       "      <td>...</td>\n",
       "      <td>...</td>\n",
       "    </tr>\n",
       "    <tr>\n",
       "      <th>29995</th>\n",
       "      <td>2-9 mình đi với nhóm bạn tổng_cộng là 8ng.Thiệ...</td>\n",
       "      <td>1</td>\n",
       "    </tr>\n",
       "    <tr>\n",
       "      <th>29996</th>\n",
       "      <td>sushi bình_dân mà chất_lượng không bình_dân ch...</td>\n",
       "      <td>1</td>\n",
       "    </tr>\n",
       "    <tr>\n",
       "      <th>29997</th>\n",
       "      <td>Trời_ơi từ bé đến lớn chưa thử món kem nào bằn...</td>\n",
       "      <td>1</td>\n",
       "    </tr>\n",
       "    <tr>\n",
       "      <th>29998</th>\n",
       "      <td>Nge mn cũng ns ngon nên hni đến coi thế_nào .\\...</td>\n",
       "      <td>1</td>\n",
       "    </tr>\n",
       "    <tr>\n",
       "      <th>29999</th>\n",
       "      <td>Ks đẹp . Thoág mát . Lại gần vs phố cổ nữa nên...</td>\n",
       "      <td>1</td>\n",
       "    </tr>\n",
       "  </tbody>\n",
       "</table>\n",
       "<p>30000 rows × 2 columns</p>\n",
       "</div>"
      ],
      "text/plain": [
       "                                                sentence  label\n",
       "0      Mua có mỗi Bingsu thập_cẩm 45k mà mình f đợi h...      0\n",
       "1      Thứ 6 nào ta cùng quẩy 💣 💣 💣\\n Vuvuzela beer c...      0\n",
       "2      Mình đi với nhóm , tổng_cộng 4 người ăn chỉ có...      0\n",
       "3      nhân_viên phục_vụ không mấy tận_tình , đồ_ăn r...      0\n",
       "4      Vào đây thì hết bàn , nhưng mình vẫn ngồi đợi ...      0\n",
       "...                                                  ...    ...\n",
       "29995  2-9 mình đi với nhóm bạn tổng_cộng là 8ng.Thiệ...      1\n",
       "29996  sushi bình_dân mà chất_lượng không bình_dân ch...      1\n",
       "29997  Trời_ơi từ bé đến lớn chưa thử món kem nào bằn...      1\n",
       "29998  Nge mn cũng ns ngon nên hni đến coi thế_nào .\\...      1\n",
       "29999  Ks đẹp . Thoág mát . Lại gần vs phố cổ nữa nên...      1\n",
       "\n",
       "[30000 rows x 2 columns]"
      ]
     },
     "execution_count": 15,
     "metadata": {},
     "output_type": "execute_result"
    }
   ],
   "source": [
    "train_df "
   ]
  },
  {
   "cell_type": "code",
   "execution_count": 16,
   "metadata": {},
   "outputs": [
    {
     "data": {
      "text/html": [
       "<div>\n",
       "<style scoped>\n",
       "    .dataframe tbody tr th:only-of-type {\n",
       "        vertical-align: middle;\n",
       "    }\n",
       "\n",
       "    .dataframe tbody tr th {\n",
       "        vertical-align: top;\n",
       "    }\n",
       "\n",
       "    .dataframe thead th {\n",
       "        text-align: right;\n",
       "    }\n",
       "</style>\n",
       "<table border=\"1\" class=\"dataframe\">\n",
       "  <thead>\n",
       "    <tr style=\"text-align: right;\">\n",
       "      <th></th>\n",
       "      <th>sentence</th>\n",
       "      <th>label</th>\n",
       "      <th>preprocess_sentence</th>\n",
       "    </tr>\n",
       "  </thead>\n",
       "  <tbody>\n",
       "    <tr>\n",
       "      <th>0</th>\n",
       "      <td>Lần đầu_tiên ăn chắc cũng là lần cuối ăn_ở đây...</td>\n",
       "      <td>0</td>\n",
       "      <td>lần đầu tiên ăn chắc cũng là lần cuối ăn ở đây...</td>\n",
       "    </tr>\n",
       "    <tr>\n",
       "      <th>1</th>\n",
       "      <td>Khi mình vào thì bàn chưa dọn , dơ kinh . Cái ...</td>\n",
       "      <td>0</td>\n",
       "      <td>khi mình vào thì bàn chưa dọn dơ kinh cái bếp ...</td>\n",
       "    </tr>\n",
       "    <tr>\n",
       "      <th>2</th>\n",
       "      <td>Haiz ! Không biết đúng hương_vị của bánh thế_n...</td>\n",
       "      <td>0</td>\n",
       "      <td>haiz không biết đúng hương vị của bánh thế nào...</td>\n",
       "    </tr>\n",
       "    <tr>\n",
       "      <th>3</th>\n",
       "      <td>Mình ghé quán này vì thấy có cơm theo kiểu Việ...</td>\n",
       "      <td>0</td>\n",
       "      <td>mình ghé quán này vì thấy có cơm theo kiểu việ...</td>\n",
       "    </tr>\n",
       "    <tr>\n",
       "      <th>4</th>\n",
       "      <td>Quán xịn ở Quan_Hoa - Cầu_Giấy , biển_hiệu màu...</td>\n",
       "      <td>0</td>\n",
       "      <td>quán xịn ở quan hoa cầu giấy biển hiệu màu xan...</td>\n",
       "    </tr>\n",
       "    <tr>\n",
       "      <th>...</th>\n",
       "      <td>...</td>\n",
       "      <td>...</td>\n",
       "      <td>...</td>\n",
       "    </tr>\n",
       "    <tr>\n",
       "      <th>9995</th>\n",
       "      <td>Quán không_gian nhỏ nhưng khá lịch_sự , sạch_s...</td>\n",
       "      <td>1</td>\n",
       "      <td>quán không gian nhỏ nhưng khá lịch sự sạch sẽ ...</td>\n",
       "    </tr>\n",
       "    <tr>\n",
       "      <th>9996</th>\n",
       "      <td>đi ăn lần 2 : ) ) ) lần này rút kinh_nghiệm ki...</td>\n",
       "      <td>1</td>\n",
       "      <td>đi ăn lần lần này rút kinh nghiệm kiu đồ ăn ít...</td>\n",
       "    </tr>\n",
       "    <tr>\n",
       "      <th>9997</th>\n",
       "      <td>Mình ăn 2 món , mà quên tên mất rồi , toàn từ ...</td>\n",
       "      <td>1</td>\n",
       "      <td>mình ăn món mà quên tên mất rồi toàn từ cá hồi...</td>\n",
       "    </tr>\n",
       "    <tr>\n",
       "      <th>9998</th>\n",
       "      <td>Trong ảnh là\\n • 1 phần mì udon xào\\n • 1 phần...</td>\n",
       "      <td>1</td>\n",
       "      <td>trong ảnh là • phần mì udon xào • phần cuốn ki...</td>\n",
       "    </tr>\n",
       "    <tr>\n",
       "      <th>9999</th>\n",
       "      <td>địa_điểm : dễ tìm , mậu thân quẹo vào đường bờ...</td>\n",
       "      <td>1</td>\n",
       "      <td>địa điểm dễ tìm mậu thân quẹo vào đường bờ hồ ...</td>\n",
       "    </tr>\n",
       "  </tbody>\n",
       "</table>\n",
       "<p>10000 rows × 3 columns</p>\n",
       "</div>"
      ],
      "text/plain": [
       "                                               sentence  label  \\\n",
       "0     Lần đầu_tiên ăn chắc cũng là lần cuối ăn_ở đây...      0   \n",
       "1     Khi mình vào thì bàn chưa dọn , dơ kinh . Cái ...      0   \n",
       "2     Haiz ! Không biết đúng hương_vị của bánh thế_n...      0   \n",
       "3     Mình ghé quán này vì thấy có cơm theo kiểu Việ...      0   \n",
       "4     Quán xịn ở Quan_Hoa - Cầu_Giấy , biển_hiệu màu...      0   \n",
       "...                                                 ...    ...   \n",
       "9995  Quán không_gian nhỏ nhưng khá lịch_sự , sạch_s...      1   \n",
       "9996  đi ăn lần 2 : ) ) ) lần này rút kinh_nghiệm ki...      1   \n",
       "9997  Mình ăn 2 món , mà quên tên mất rồi , toàn từ ...      1   \n",
       "9998  Trong ảnh là\\n • 1 phần mì udon xào\\n • 1 phần...      1   \n",
       "9999  địa_điểm : dễ tìm , mậu thân quẹo vào đường bờ...      1   \n",
       "\n",
       "                                    preprocess_sentence  \n",
       "0     lần đầu tiên ăn chắc cũng là lần cuối ăn ở đây...  \n",
       "1     khi mình vào thì bàn chưa dọn dơ kinh cái bếp ...  \n",
       "2     haiz không biết đúng hương vị của bánh thế nào...  \n",
       "3     mình ghé quán này vì thấy có cơm theo kiểu việ...  \n",
       "4     quán xịn ở quan hoa cầu giấy biển hiệu màu xan...  \n",
       "...                                                 ...  \n",
       "9995  quán không gian nhỏ nhưng khá lịch sự sạch sẽ ...  \n",
       "9996  đi ăn lần lần này rút kinh nghiệm kiu đồ ăn ít...  \n",
       "9997  mình ăn món mà quên tên mất rồi toàn từ cá hồi...  \n",
       "9998  trong ảnh là • phần mì udon xào • phần cuốn ki...  \n",
       "9999  địa điểm dễ tìm mậu thân quẹo vào đường bờ hồ ...  \n",
       "\n",
       "[10000 rows x 3 columns]"
      ]
     },
     "execution_count": 16,
     "metadata": {},
     "output_type": "execute_result"
    }
   ],
   "source": [
    "valid_df"
   ]
  },
  {
   "cell_type": "code",
   "execution_count": 17,
   "metadata": {},
   "outputs": [
    {
     "data": {
      "text/html": [
       "<div>\n",
       "<style scoped>\n",
       "    .dataframe tbody tr th:only-of-type {\n",
       "        vertical-align: middle;\n",
       "    }\n",
       "\n",
       "    .dataframe tbody tr th {\n",
       "        vertical-align: top;\n",
       "    }\n",
       "\n",
       "    .dataframe thead th {\n",
       "        text-align: right;\n",
       "    }\n",
       "</style>\n",
       "<table border=\"1\" class=\"dataframe\">\n",
       "  <thead>\n",
       "    <tr style=\"text-align: right;\">\n",
       "      <th></th>\n",
       "      <th>sentence</th>\n",
       "      <th>label</th>\n",
       "      <th>preprocess_sentence</th>\n",
       "    </tr>\n",
       "  </thead>\n",
       "  <tbody>\n",
       "    <tr>\n",
       "      <th>0</th>\n",
       "      <td>Quán này khá là nổi_tiếng nay mới có dịp ghé t...</td>\n",
       "      <td>0</td>\n",
       "      <td>quán này khá là nổi tiếng nay mới có dịp ghé t...</td>\n",
       "    </tr>\n",
       "    <tr>\n",
       "      <th>1</th>\n",
       "      <td>Đây là lần đầu_tiên mình ăn_ở đây , và có_lẽ c...</td>\n",
       "      <td>0</td>\n",
       "      <td>đây là lần đầu tiên mình ăn ở đây và có lẽ cũn...</td>\n",
       "    </tr>\n",
       "    <tr>\n",
       "      <th>2</th>\n",
       "      <td>tha ́ i đô ̣ phu ̣ c vu ̣ nhân_viên không tô ́...</td>\n",
       "      <td>0</td>\n",
       "      <td>tha ́ i đô ̣ phu ̣ c vu ̣ nhân viên không tô ́...</td>\n",
       "    </tr>\n",
       "    <tr>\n",
       "      <th>3</th>\n",
       "      <td>Đồ_ăn bình_thường . Cần chăm_chút không_gian h...</td>\n",
       "      <td>0</td>\n",
       "      <td>đồ ăn bình thường cần chăm chút không gian hơn...</td>\n",
       "    </tr>\n",
       "    <tr>\n",
       "      <th>4</th>\n",
       "      <td>Phục_vụ lâu , giá thì ổn thôi nhưng chất_lượng...</td>\n",
       "      <td>0</td>\n",
       "      <td>phục vụ lâu giá thì ổn thôi nhưng chất lượng b...</td>\n",
       "    </tr>\n",
       "    <tr>\n",
       "      <th>...</th>\n",
       "      <td>...</td>\n",
       "      <td>...</td>\n",
       "      <td>...</td>\n",
       "    </tr>\n",
       "    <tr>\n",
       "      <th>9995</th>\n",
       "      <td>Gia re , mon an ngon , view dep va nhan vien n...</td>\n",
       "      <td>1</td>\n",
       "      <td>gia re mon an ngon view dep va nhan vien nhiet...</td>\n",
       "    </tr>\n",
       "    <tr>\n",
       "      <th>9996</th>\n",
       "      <td>Quán nằm trên đường Thạch_Thị_Thanh , dễ tìm ....</td>\n",
       "      <td>1</td>\n",
       "      <td>quán nằm trên đường thạch thị thanh dễ tìm khô...</td>\n",
       "    </tr>\n",
       "    <tr>\n",
       "      <th>9997</th>\n",
       "      <td>Mình đã đến ăn_ở quán này vài lần . Đồ_ăn ngon...</td>\n",
       "      <td>1</td>\n",
       "      <td>mình đã đến ăn ở quán này vài lần đồ ăn ngon g...</td>\n",
       "    </tr>\n",
       "    <tr>\n",
       "      <th>9998</th>\n",
       "      <td>Nhà_hàng trang_trí độc_đáo .\\n Món ăn mới_lạ n...</td>\n",
       "      <td>1</td>\n",
       "      <td>nhà hàng trang trí độc đáo món ăn mới lạ nhiều...</td>\n",
       "    </tr>\n",
       "    <tr>\n",
       "      <th>9999</th>\n",
       "      <td>Quán có đồ uống hạt_dẻ nhất khu_vực TC . Siêu ...</td>\n",
       "      <td>1</td>\n",
       "      <td>quán có đồ uống hạt dẻ nhất khu vực tc siêu rẻ...</td>\n",
       "    </tr>\n",
       "  </tbody>\n",
       "</table>\n",
       "<p>10000 rows × 3 columns</p>\n",
       "</div>"
      ],
      "text/plain": [
       "                                               sentence  label  \\\n",
       "0     Quán này khá là nổi_tiếng nay mới có dịp ghé t...      0   \n",
       "1     Đây là lần đầu_tiên mình ăn_ở đây , và có_lẽ c...      0   \n",
       "2     tha ́ i đô ̣ phu ̣ c vu ̣ nhân_viên không tô ́...      0   \n",
       "3     Đồ_ăn bình_thường . Cần chăm_chút không_gian h...      0   \n",
       "4     Phục_vụ lâu , giá thì ổn thôi nhưng chất_lượng...      0   \n",
       "...                                                 ...    ...   \n",
       "9995  Gia re , mon an ngon , view dep va nhan vien n...      1   \n",
       "9996  Quán nằm trên đường Thạch_Thị_Thanh , dễ tìm ....      1   \n",
       "9997  Mình đã đến ăn_ở quán này vài lần . Đồ_ăn ngon...      1   \n",
       "9998  Nhà_hàng trang_trí độc_đáo .\\n Món ăn mới_lạ n...      1   \n",
       "9999  Quán có đồ uống hạt_dẻ nhất khu_vực TC . Siêu ...      1   \n",
       "\n",
       "                                    preprocess_sentence  \n",
       "0     quán này khá là nổi tiếng nay mới có dịp ghé t...  \n",
       "1     đây là lần đầu tiên mình ăn ở đây và có lẽ cũn...  \n",
       "2     tha ́ i đô ̣ phu ̣ c vu ̣ nhân viên không tô ́...  \n",
       "3     đồ ăn bình thường cần chăm chút không gian hơn...  \n",
       "4     phục vụ lâu giá thì ổn thôi nhưng chất lượng b...  \n",
       "...                                                 ...  \n",
       "9995  gia re mon an ngon view dep va nhan vien nhiet...  \n",
       "9996  quán nằm trên đường thạch thị thanh dễ tìm khô...  \n",
       "9997  mình đã đến ăn ở quán này vài lần đồ ăn ngon g...  \n",
       "9998  nhà hàng trang trí độc đáo món ăn mới lạ nhiều...  \n",
       "9999  quán có đồ uống hạt dẻ nhất khu vực tc siêu rẻ...  \n",
       "\n",
       "[10000 rows x 3 columns]"
      ]
     },
     "execution_count": 17,
     "metadata": {},
     "output_type": "execute_result"
    }
   ],
   "source": [
    "test_df"
   ]
  },
  {
   "cell_type": "markdown",
   "metadata": {},
   "source": [
    "## 4. EDA"
   ]
  },
  {
   "cell_type": "code",
   "execution_count": 18,
   "metadata": {},
   "outputs": [
    {
     "data": {
      "image/png": "[encoded data removed]",
      "text/plain": [
       "<Figure size 640x480 with 1 Axes>"
      ]
     },
     "metadata": {},
     "output_type": "display_data"
    }
   ],
   "source": [
    "import matplotlib.pyplot as plt \n",
    "\n",
    "plt.hist([len(sentence.split()) for sentence in train_df_vi['preprocess_sentence']], bins=128, range=(0, 500))\n",
    "plt.show()"
   ]
  },
  {
   "cell_type": "code",
   "execution_count": 19,
   "metadata": {},
   "outputs": [
    {
     "data": {
      "text/plain": [
       "(17244, 2856797)"
      ]
     },
     "execution_count": 19,
     "metadata": {},
     "output_type": "execute_result"
    }
   ],
   "source": [
    "# dictionary of words\n",
    "from collections import Counter\n",
    "\n",
    "words = []\n",
    "[[words.append(word) for word in sentence.split()] for sentence in train_df_vi['preprocess_sentence']]\n",
    "vocabulary = Counter(words)\n",
    "len(vocabulary), len(words)"
   ]
  },
  {
   "cell_type": "markdown",
   "metadata": {},
   "source": [
    "## 5. TEXT REPRESENTATION"
   ]
  },
  {
   "cell_type": "code",
   "execution_count": 20,
   "metadata": {},
   "outputs": [],
   "source": [
    "def yield_tokens(sentences, tokenizer):\n",
    "    for sentence in sentences:\n",
    "        yield tokenizer(sentence)"
   ]
  },
  {
   "cell_type": "code",
   "execution_count": 21,
   "metadata": {},
   "outputs": [],
   "source": [
    "# word-based tokenizer\n",
    "from torchtext.data.utils import get_tokenizer\n",
    "\n",
    "tokenizer = get_tokenizer('basic_english')"
   ]
  },
  {
   "cell_type": "code",
   "execution_count": 22,
   "metadata": {},
   "outputs": [
    {
     "data": {
      "text/plain": [
       "['mua', 'có', 'mỗi', 'bingsu', 'thập']"
      ]
     },
     "execution_count": 22,
     "metadata": {},
     "output_type": "execute_result"
    }
   ],
   "source": [
    "tokenizer(train_df_vi['preprocess_sentence'][0])[:5]"
   ]
  },
  {
   "cell_type": "code",
   "execution_count": 23,
   "metadata": {},
   "outputs": [],
   "source": [
    "from torchtext.vocab import build_vocab_from_iterator\n",
    "\n",
    "vocab_size = 10000\n",
    "vocabulary = build_vocab_from_iterator(\n",
    "    yield_tokens(train_df_vi['preprocess_sentence'], tokenizer),\n",
    "    max_tokens=vocab_size,\n",
    "    specials=['<unk>']\n",
    ")\n",
    "vocabulary.set_default_index(vocabulary['<unk>'])"
   ]
  },
  {
   "cell_type": "code",
   "execution_count": 24,
   "metadata": {},
   "outputs": [
    {
     "data": {
      "text/plain": [
       "10000"
      ]
     },
     "execution_count": 24,
     "metadata": {},
     "output_type": "execute_result"
    }
   ],
   "source": [
    "len(vocabulary)"
   ]
  },
  {
   "cell_type": "code",
   "execution_count": 25,
   "metadata": {},
   "outputs": [
    {
     "name": "stdout",
     "output_type": "stream",
     "text": [
      "[140, 3, 205, 890, 913, 856, 13, 15, 2, 2556, 241, 76, 186, 20, 7, 369, 2495, 3, 565, 1280, 213, 282, 96, 56, 419, 606, 2777, 659, 2, 13, 120, 3, 10, 13, 1280, 9, 175, 1, 98, 648, 331, 369, 6, 17, 287, 20, 189, 1375, 8, 689, 277, 60]\n"
     ]
    }
   ],
   "source": [
    "print(vocabulary(tokenizer(train_df_vi['preprocess_sentence'][0])))"
   ]
  },
  {
   "cell_type": "markdown",
   "metadata": {},
   "source": [
    "### Encoding word"
   ]
  },
  {
   "cell_type": "code",
   "execution_count": 26,
   "metadata": {},
   "outputs": [],
   "source": [
    "from torchtext.data.functional import to_map_style_dataset\n",
    "\n",
    "def prepare_dataset(df):\n",
    "    for index, row in df.iterrows():\n",
    "        sentence = row['preprocess_sentence']\n",
    "        encoded_sentence = vocabulary(tokenizer(sentence))\n",
    "        label = row['label']\n",
    "        yield encoded_sentence, label\n",
    "\n",
    "train_dataset = prepare_dataset(train_df_vi)\n",
    "train_dataset = to_map_style_dataset(train_dataset)\n",
    "\n",
    "valid_dataset = prepare_dataset(valid_df)\n",
    "valid_dataset = to_map_style_dataset(valid_dataset)\n"
   ]
  },
  {
   "cell_type": "code",
   "execution_count": 27,
   "metadata": {},
   "outputs": [
    {
     "name": "stdout",
     "output_type": "stream",
     "text": [
      "([140, 3, 205, 890, 913, 856, 13, 15, 2, 2556, 241, 76, 186, 20, 7, 369, 2495, 3, 565, 1280, 213, 282, 96, 56, 419, 606, 2777, 659, 2, 13, 120, 3, 10, 13, 1280, 9, 175, 1, 98, 648, 331, 369, 6, 17, 287, 20, 189, 1375, 8, 689, 277, 60], 0)\n"
     ]
    }
   ],
   "source": [
    "print(next(iter(train_dataset)))"
   ]
  },
  {
   "cell_type": "code",
   "execution_count": 28,
   "metadata": {},
   "outputs": [
    {
     "data": {
      "text/plain": [
       "29736"
      ]
     },
     "execution_count": 28,
     "metadata": {},
     "output_type": "execute_result"
    }
   ],
   "source": [
    "len(train_dataset)"
   ]
  },
  {
   "cell_type": "markdown",
   "metadata": {},
   "source": [
    "## 6. DataLoader"
   ]
  },
  {
   "cell_type": "code",
   "execution_count": 29,
   "metadata": {},
   "outputs": [],
   "source": [
    "import torch\n",
    "\n",
    "device = torch.device(\"cuda\" if torch.cuda.is_available() else \"cpu\")\n",
    "\n",
    "def collate_batch(batch):\n",
    "    encoded_sentences, labels, offsets = [], [], [0]\n",
    "    for encoded_sentence, label in batch:\n",
    "        labels.append(label)\n",
    "        encoded_sentence = torch.tensor(encoded_sentence, dtype=torch.int64)\n",
    "        encoded_sentences.append(encoded_sentence)\n",
    "        offsets.append(encoded_sentence.size(0))\n",
    "\n",
    "    labels = torch.tensor(labels, dtype=torch.int64)\n",
    "    offsets = torch.tensor(offsets[:-1]).cumsum(dim=0)\n",
    "    encoded_sentences = torch.cat(encoded_sentences)\n",
    "    return encoded_sentences.to(device), offsets.to(device), labels.to(device)"
   ]
  },
  {
   "cell_type": "code",
   "execution_count": 30,
   "metadata": {},
   "outputs": [],
   "source": [
    "from torch.utils.data import DataLoader\n",
    "\n",
    "batch_size = 128\n",
    "train_dataloader = DataLoader(\n",
    "    train_dataset,\n",
    "    batch_size=batch_size,\n",
    "    shuffle=True,\n",
    "    collate_fn=collate_batch\n",
    ")\n",
    "valid_dataloader = DataLoader(\n",
    "    valid_dataset,\n",
    "    batch_size=batch_size,\n",
    "    shuffle=False,\n",
    "    collate_fn=collate_batch\n",
    ")"
   ]
  },
  {
   "cell_type": "code",
   "execution_count": 31,
   "metadata": {},
   "outputs": [
    {
     "data": {
      "text/plain": [
       "(tensor([1732, 1022,    3,  ..., 1508,  994, 3890]),\n",
       " tensor([    0,    68,   153,   183,   488,   708,   779,   965,   988,  1039,\n",
       "          1095,  1153,  1186,  1273,  1686,  1751,  1778,  1941,  2037,  2079,\n",
       "          2159,  2171,  2198,  2256,  2289,  2390,  2431,  2510,  2622,  2722,\n",
       "          2851,  3034,  3110,  3315,  3362,  3491,  3584,  3618,  3680,  3726,\n",
       "          3746,  3770,  3876,  3890,  4290,  4455,  4558,  4672,  4717,  4821,\n",
       "          5060,  5135,  5429,  5851,  6198,  6297,  6319,  6403,  6478,  6495,\n",
       "          6569,  6659,  6683,  6712,  6748,  6782,  6944,  7009,  7113,  7164,\n",
       "          7233,  7279,  7456,  7504,  7667,  7741,  7768,  7872,  7935,  8019,\n",
       "          8056,  8087,  8167,  8481,  8519,  8542,  8616,  8666,  8709,  8772,\n",
       "          8877,  8964,  9063,  9148,  9193,  9250,  9365,  9388,  9567,  9748,\n",
       "          9770,  9819, 10082, 10188, 10353, 10430, 10483, 10648, 10862, 10904,\n",
       "         11119, 11154, 11174, 11193, 11280, 11497, 12187, 12323, 12386, 12460,\n",
       "         12657, 12700, 12726, 12763, 12892, 13020, 13040, 13157]),\n",
       " tensor([0, 0, 0, 0, 1, 1, 0, 1, 1, 0, 0, 0, 1, 1, 1, 1, 1, 1, 0, 1, 1, 0, 0, 0,\n",
       "         1, 0, 1, 0, 0, 0, 1, 1, 0, 1, 0, 1, 1, 0, 0, 1, 0, 0, 1, 0, 1, 0, 1, 0,\n",
       "         1, 0, 0, 0, 1, 0, 0, 0, 0, 0, 1, 0, 1, 1, 0, 0, 0, 1, 1, 1, 0, 1, 0, 1,\n",
       "         0, 0, 0, 0, 1, 1, 0, 1, 0, 1, 1, 0, 0, 1, 0, 1, 1, 1, 1, 0, 1, 1, 1, 0,\n",
       "         1, 1, 0, 1, 1, 1, 0, 1, 1, 0, 1, 0, 0, 1, 0, 1, 1, 1, 0, 0, 1, 0, 0, 0,\n",
       "         1, 0, 1, 0, 0, 0, 1, 1]))"
      ]
     },
     "execution_count": 31,
     "metadata": {},
     "output_type": "execute_result"
    }
   ],
   "source": [
    "next(iter(train_dataloader))"
   ]
  },
  {
   "cell_type": "code",
   "execution_count": 32,
   "metadata": {},
   "outputs": [
    {
     "data": {
      "text/plain": [
       "torch.Size([12042])"
      ]
     },
     "execution_count": 32,
     "metadata": {},
     "output_type": "execute_result"
    }
   ],
   "source": [
    "encoded_sentences, offsets, labels = next(iter(train_dataloader))\n",
    "encoded_sentences.shape"
   ]
  },
  {
   "cell_type": "markdown",
   "metadata": {},
   "source": [
    "## 7. Model"
   ]
  },
  {
   "cell_type": "code",
   "execution_count": 33,
   "metadata": {},
   "outputs": [],
   "source": [
    "from torch import nn\n",
    "\n",
    "class TextClassificationModel(nn.Module):\n",
    "    def __init__(self, vocab_size, embed_dim, num_class):\n",
    "        super(TextClassificationModel, self).__init__()\n",
    "        self.embedding = nn.EmbeddingBag(vocab_size, embed_dim, sparse=False)\n",
    "        self.fc = nn.Linear(embed_dim, num_class)\n",
    "        self.init_weights()\n",
    "\n",
    "    def init_weights(self):\n",
    "        init_range = 0.5\n",
    "        self.embedding.weight.data.uniform_(-init_range, init_range)\n",
    "        self.fc.weight.data.uniform_(-init_range, init_range)\n",
    "        self.fc.bias.data.zero_()\n",
    "\n",
    "    def forward(self, inputs, offsets):\n",
    "        embedded = self.embedding(inputs, offsets)\n",
    "        return self.fc(embedded)"
   ]
  },
  {
   "cell_type": "code",
   "execution_count": 34,
   "metadata": {},
   "outputs": [],
   "source": [
    "num_class = len(set(train_df_vi['label']))\n",
    "vocab_size = len(vocabulary)\n",
    "embed_dim = 100\n",
    "model = TextClassificationModel(vocab_size, embed_dim, num_class).to(device)"
   ]
  },
  {
   "cell_type": "code",
   "execution_count": 35,
   "metadata": {},
   "outputs": [
    {
     "data": {
      "text/plain": [
       "TextClassificationModel(\n",
       "  (embedding): EmbeddingBag(10000, 100, mode='mean')\n",
       "  (fc): Linear(in_features=100, out_features=2, bias=True)\n",
       ")"
      ]
     },
     "execution_count": 35,
     "metadata": {},
     "output_type": "execute_result"
    }
   ],
   "source": [
    "model"
   ]
  },
  {
   "cell_type": "code",
   "execution_count": 36,
   "metadata": {},
   "outputs": [],
   "source": [
    "predictions = model(encoded_sentences, offsets)"
   ]
  },
  {
   "cell_type": "code",
   "execution_count": 37,
   "metadata": {},
   "outputs": [
    {
     "data": {
      "text/plain": [
       "tensor([[-2.4487e-02, -3.7482e-02],\n",
       "        [ 1.6719e-01,  2.5853e-01],\n",
       "        [-8.7694e-02, -1.6508e-01],\n",
       "        [ 1.7879e-02, -1.0283e-01],\n",
       "        [ 1.0484e-02, -4.4918e-02],\n",
       "        [ 2.2029e-01, -1.6051e-01],\n",
       "        [ 9.8016e-02,  6.3497e-02],\n",
       "        [-5.2466e-03, -5.1928e-02],\n",
       "        [-3.4659e-02, -9.5296e-03],\n",
       "        [ 1.2535e-01, -4.1647e-02],\n",
       "        [-2.6246e-01, -4.7053e-02],\n",
       "        [-5.3380e-02, -2.4186e-01],\n",
       "        [ 3.9319e-02, -1.4148e-01],\n",
       "        [ 7.5890e-03,  3.0800e-02],\n",
       "        [ 3.3180e-02, -9.3648e-02],\n",
       "        [-6.6626e-02,  1.0332e-01],\n",
       "        [ 9.8772e-03, -3.3431e-01],\n",
       "        [ 5.1465e-03, -1.8627e-01],\n",
       "        [ 1.4687e-01, -8.7642e-02],\n",
       "        [-3.4735e-02, -2.2289e-02],\n",
       "        [ 1.0854e-01, -2.0321e-01],\n",
       "        [ 1.9091e-02,  3.1496e-02],\n",
       "        [ 3.7637e-02, -8.9038e-02],\n",
       "        [ 5.4750e-02,  1.8644e-01],\n",
       "        [ 1.6688e-01, -4.1808e-02],\n",
       "        [-1.2509e-01, -2.4826e-01],\n",
       "        [-1.3462e-01, -8.0897e-02],\n",
       "        [ 3.0771e-02, -1.0245e-01],\n",
       "        [ 5.2513e-02, -1.9137e-01],\n",
       "        [-1.9252e-01, -8.7725e-02],\n",
       "        [ 5.1482e-02, -1.5273e-01],\n",
       "        [ 1.1368e-01,  4.8315e-02],\n",
       "        [-4.7757e-02,  1.1264e-01],\n",
       "        [-9.2422e-03, -5.6412e-02],\n",
       "        [-4.5166e-02, -1.4212e-02],\n",
       "        [-2.8852e-02, -9.7668e-03],\n",
       "        [ 1.3976e-01,  6.3335e-02],\n",
       "        [-6.2559e-02, -4.9319e-02],\n",
       "        [-6.5079e-03,  3.1564e-04],\n",
       "        [ 9.0301e-02, -7.7257e-02],\n",
       "        [ 1.9500e-01, -9.2202e-02],\n",
       "        [ 1.8566e-01, -2.3908e-01],\n",
       "        [ 9.9241e-02, -3.4848e-01],\n",
       "        [-5.0028e-02, -3.7822e-03],\n",
       "        [-2.8676e-02,  5.1136e-02],\n",
       "        [ 1.3919e-01, -7.0417e-02],\n",
       "        [-1.2031e-01, -1.7877e-01],\n",
       "        [-1.0579e-02, -6.4180e-02],\n",
       "        [-2.2697e-01,  1.1246e-02],\n",
       "        [ 1.3106e-01, -1.7759e-01],\n",
       "        [ 2.5123e-01, -2.9292e-01],\n",
       "        [ 4.2575e-02, -7.0238e-02],\n",
       "        [ 5.6000e-02, -8.4162e-02],\n",
       "        [ 1.8871e-01,  1.5002e-01],\n",
       "        [ 2.3784e-01, -1.5411e-01],\n",
       "        [ 1.9739e-01, -1.2028e-01],\n",
       "        [-4.3583e-02,  2.5954e-01],\n",
       "        [-5.3862e-02,  5.8323e-03],\n",
       "        [-2.1615e-01, -2.8016e-01],\n",
       "        [-2.2875e-02, -6.2030e-02],\n",
       "        [ 5.3434e-02,  8.5177e-02],\n",
       "        [ 2.1630e-02, -2.0779e-01],\n",
       "        [ 4.3515e-02, -2.3986e-02],\n",
       "        [ 1.9155e-02,  5.7679e-02],\n",
       "        [ 2.1095e-01,  2.5177e-02],\n",
       "        [-2.5711e-02, -2.1616e-03],\n",
       "        [ 1.1444e-01, -3.6369e-02],\n",
       "        [-1.5101e-02, -1.1061e-01],\n",
       "        [-1.5426e-02,  5.3073e-02],\n",
       "        [ 7.7086e-02,  7.0001e-02],\n",
       "        [ 1.2155e-01,  1.1914e-02],\n",
       "        [ 1.3305e-01, -1.1757e-01],\n",
       "        [-2.0847e-01, -6.9772e-02],\n",
       "        [ 1.3269e-01,  5.7954e-02],\n",
       "        [-1.1367e-01,  1.2877e-01],\n",
       "        [-5.1347e-02,  1.8039e-02],\n",
       "        [-4.2744e-02, -1.4435e-01],\n",
       "        [ 5.2040e-02,  7.5728e-02],\n",
       "        [ 1.6636e-01,  1.5724e-01],\n",
       "        [-7.0314e-02,  2.1679e-03],\n",
       "        [ 2.1959e-01, -1.1682e-01],\n",
       "        [-1.8867e-01,  1.4723e-02],\n",
       "        [ 2.3087e-02, -2.3392e-01],\n",
       "        [-1.8369e-01, -1.6252e-01],\n",
       "        [ 4.8439e-02,  1.3013e-01],\n",
       "        [ 1.0865e-01, -2.0558e-01],\n",
       "        [ 1.3341e-01,  1.5932e-02],\n",
       "        [ 9.0291e-03, -2.0586e-01],\n",
       "        [-7.1650e-02, -2.9895e-02],\n",
       "        [ 2.5351e-01,  6.7978e-03],\n",
       "        [-3.4881e-02, -1.4203e-01],\n",
       "        [ 1.7797e-01, -4.0457e-02],\n",
       "        [-4.3449e-02, -1.4550e-01],\n",
       "        [ 6.9229e-02, -9.2508e-02],\n",
       "        [ 2.9427e-01,  1.6314e-01],\n",
       "        [-2.0166e-02, -2.1449e-02],\n",
       "        [ 1.2911e-01, -4.9103e-02],\n",
       "        [-1.1423e-01, -2.2002e-02],\n",
       "        [-5.0069e-02, -8.8696e-02],\n",
       "        [ 6.3883e-03, -8.0626e-02],\n",
       "        [ 6.4707e-02, -4.0652e-02],\n",
       "        [ 6.4344e-02, -1.6535e-01],\n",
       "        [ 1.4931e-01, -1.4006e-01],\n",
       "        [ 4.5318e-02, -8.0643e-02],\n",
       "        [ 4.2121e-02, -1.2584e-01],\n",
       "        [ 6.6483e-02,  2.4500e-01],\n",
       "        [ 9.1806e-02,  3.1855e-02],\n",
       "        [-7.1459e-02, -1.6750e-01],\n",
       "        [-2.0537e-02, -1.8165e-02],\n",
       "        [ 8.5037e-02,  8.1676e-02],\n",
       "        [ 4.0440e-02,  9.5888e-02],\n",
       "        [ 1.0954e-01, -1.3755e-02],\n",
       "        [ 2.0324e-01,  4.0564e-02],\n",
       "        [ 1.2760e-01, -1.0597e-01],\n",
       "        [ 1.0528e-01,  2.1075e-01],\n",
       "        [ 4.5036e-02,  8.1675e-02],\n",
       "        [ 1.0524e-01, -6.0152e-05],\n",
       "        [-2.6815e-02, -5.4872e-02],\n",
       "        [ 1.0443e-02, -2.3051e-01],\n",
       "        [ 2.7360e-01,  1.7627e-01],\n",
       "        [ 2.7347e-02, -2.8321e-01],\n",
       "        [-4.7084e-02,  2.9661e-03],\n",
       "        [ 4.4689e-02,  1.5066e-02],\n",
       "        [ 2.3211e-01, -1.5434e-01],\n",
       "        [ 1.8830e-01, -1.8105e-02],\n",
       "        [-8.8557e-02,  9.3692e-02],\n",
       "        [ 1.8064e-01,  7.0689e-02],\n",
       "        [ 1.7784e-01,  2.6466e-02]], grad_fn=<AddmmBackward0>)"
      ]
     },
     "execution_count": 37,
     "metadata": {},
     "output_type": "execute_result"
    }
   ],
   "source": [
    "predictions"
   ]
  },
  {
   "cell_type": "code",
   "execution_count": 38,
   "metadata": {},
   "outputs": [],
   "source": [
    "learning_rate = 2e-5\n",
    "\n",
    "criterion = torch.nn.CrossEntropyLoss()\n",
    "optimizer = torch.optim.SGD(model.parameters(), lr=learning_rate)"
   ]
  },
  {
   "cell_type": "code",
   "execution_count": 39,
   "metadata": {},
   "outputs": [
    {
     "data": {
      "text/plain": [
       "tensor(0.6864, grad_fn=<NllLossBackward0>)"
      ]
     },
     "execution_count": 39,
     "metadata": {},
     "output_type": "execute_result"
    }
   ],
   "source": [
    "loss = criterion(predictions, labels)\n",
    "loss"
   ]
  },
  {
   "cell_type": "markdown",
   "metadata": {},
   "source": [
    "# 8. Trainer"
   ]
  },
  {
   "cell_type": "code",
   "execution_count": 40,
   "metadata": {},
   "outputs": [],
   "source": [
    "import time\n",
    "\n",
    "def train(model, optimizer, criterion, train_dataloader, epoch=0, log_interval=25):\n",
    "    model.train()\n",
    "    total_acc, total_count = 0, 0\n",
    "    losses = []\n",
    "    start_time = time.time()\n",
    "\n",
    "    for idx, (inputs, offsets, labels) in enumerate(train_dataloader):\n",
    "        optimizer.zero_grad()\n",
    "        predictions = model(inputs, offsets)\n",
    "\n",
    "        # compute loss\n",
    "        loss = criterion(predictions, labels)\n",
    "        losses.append(loss.item())\n",
    "\n",
    "        # backward\n",
    "        loss.backward()\n",
    "        torch.nn.utils.clip_grad_norm_(model.parameters(), 0.1)\n",
    "        optimizer.step()\n",
    "        total_acc += (predictions.argmax(1) == labels).sum().item()\n",
    "        total_count += labels.size(0)\n",
    "        if idx % log_interval == 0 and idx > 0:\n",
    "            elapsed = time.time() - start_time\n",
    "            print(\n",
    "                \"| epoch {:3d} | {:5d}/{:5d} batches \"\n",
    "                \"| accuracy {:8.3f}\".format(\n",
    "                    epoch, idx, len(train_dataloader), total_acc / total_count\n",
    "                )\n",
    "            )\n",
    "            total_acc, total_count = 0, 0\n",
    "            start_time = time.time()\n",
    "\n",
    "    epoch_acc = total_acc / total_count\n",
    "    epoch_loss = sum(losses) / len(losses)\n",
    "    return epoch_acc, epoch_loss"
   ]
  },
  {
   "cell_type": "code",
   "execution_count": 41,
   "metadata": {},
   "outputs": [
    {
     "name": "stdout",
     "output_type": "stream",
     "text": [
      "| epoch   0 |    25/  233 batches | accuracy    0.527\n",
      "| epoch   0 |    50/  233 batches | accuracy    0.522\n",
      "| epoch   0 |    75/  233 batches | accuracy    0.524\n",
      "| epoch   0 |   100/  233 batches | accuracy    0.512\n",
      "| epoch   0 |   125/  233 batches | accuracy    0.497\n",
      "| epoch   0 |   150/  233 batches | accuracy    0.532\n",
      "| epoch   0 |   175/  233 batches | accuracy    0.512\n",
      "| epoch   0 |   200/  233 batches | accuracy    0.526\n",
      "| epoch   0 |   225/  233 batches | accuracy    0.508\n"
     ]
    }
   ],
   "source": [
    "epoch_acc, epoch_loss = train(model, optimizer, criterion, train_dataloader)"
   ]
  },
  {
   "cell_type": "code",
   "execution_count": 42,
   "metadata": {},
   "outputs": [],
   "source": [
    "def evaluate(model, criterion, valid_dataloader):\n",
    "    model.eval()\n",
    "    total_acc, total_count = 0, 0\n",
    "    losses = []\n",
    "\n",
    "    with torch.no_grad():\n",
    "        for idx, (inputs, offsets, labels) in enumerate(valid_dataloader):\n",
    "            predictions = model(inputs, offsets)\n",
    "            loss = criterion(predictions, labels)\n",
    "            losses.append(loss)\n",
    "            total_acc += (predictions.argmax(1) == labels).sum().item()\n",
    "            total_count += labels.size(0)\n",
    "\n",
    "    epoch_acc = total_acc / total_count\n",
    "    epoch_loss = sum(losses) / len(losses)\n",
    "    return epoch_acc, epoch_loss"
   ]
  },
  {
   "cell_type": "code",
   "execution_count": 43,
   "metadata": {},
   "outputs": [],
   "source": [
    "eval_acc, eval_loss = evaluate(model, criterion, valid_dataloader)"
   ]
  },
  {
   "cell_type": "code",
   "execution_count": 44,
   "metadata": {},
   "outputs": [
    {
     "data": {
      "text/plain": [
       "(0.5156, tensor(0.6927))"
      ]
     },
     "execution_count": 44,
     "metadata": {},
     "output_type": "execute_result"
    }
   ],
   "source": [
    "eval_acc, eval_loss"
   ]
  },
  {
   "cell_type": "markdown",
   "metadata": {},
   "source": [
    "# 9. Training"
   ]
  },
  {
   "cell_type": "code",
   "execution_count": 45,
   "metadata": {},
   "outputs": [
    {
     "name": "stdout",
     "output_type": "stream",
     "text": [
      "| epoch   1 |    25/  233 batches | accuracy    0.594\n",
      "| epoch   1 |    50/  233 batches | accuracy    0.729\n",
      "| epoch   1 |    75/  233 batches | accuracy    0.787\n",
      "| epoch   1 |   100/  233 batches | accuracy    0.818\n",
      "| epoch   1 |   125/  233 batches | accuracy    0.820\n",
      "| epoch   1 |   150/  233 batches | accuracy    0.828\n",
      "| epoch   1 |   175/  233 batches | accuracy    0.829\n",
      "| epoch   1 |   200/  233 batches | accuracy    0.844\n",
      "| epoch   1 |   225/  233 batches | accuracy    0.834\n",
      "-----------------------------------------------------------\n",
      "| End of epoch   1 | Time:  2.34s | Train Accuracy    0.854 | Train Loss    0.463 | Valid Accuracy    0.849 | Valid Loss    0.393 \n",
      "-----------------------------------------------------------\n",
      "| epoch   2 |    25/  233 batches | accuracy    0.851\n",
      "| epoch   2 |    50/  233 batches | accuracy    0.851\n",
      "| epoch   2 |    75/  233 batches | accuracy    0.860\n",
      "| epoch   2 |   100/  233 batches | accuracy    0.857\n",
      "| epoch   2 |   125/  233 batches | accuracy    0.857\n",
      "| epoch   2 |   150/  233 batches | accuracy    0.861\n",
      "| epoch   2 |   175/  233 batches | accuracy    0.869\n",
      "| epoch   2 |   200/  233 batches | accuracy    0.861\n",
      "| epoch   2 |   225/  233 batches | accuracy    0.863\n",
      "-----------------------------------------------------------\n",
      "| End of epoch   2 | Time:  2.52s | Train Accuracy    0.891 | Train Loss    0.362 | Valid Accuracy    0.863 | Valid Loss    0.354 \n",
      "-----------------------------------------------------------\n",
      "| epoch   3 |    25/  233 batches | accuracy    0.867\n",
      "| epoch   3 |    50/  233 batches | accuracy    0.883\n",
      "| epoch   3 |    75/  233 batches | accuracy    0.865\n",
      "| epoch   3 |   100/  233 batches | accuracy    0.864\n",
      "| epoch   3 |   125/  233 batches | accuracy    0.865\n",
      "| epoch   3 |   150/  233 batches | accuracy    0.862\n",
      "| epoch   3 |   175/  233 batches | accuracy    0.875\n",
      "| epoch   3 |   200/  233 batches | accuracy    0.873\n",
      "| epoch   3 |   225/  233 batches | accuracy    0.881\n",
      "-----------------------------------------------------------\n",
      "| End of epoch   3 | Time:  2.42s | Train Accuracy    0.871 | Train Loss    0.337 | Valid Accuracy    0.848 | Valid Loss    0.367 \n",
      "-----------------------------------------------------------\n",
      "| epoch   4 |    25/  233 batches | accuracy    0.876\n",
      "| epoch   4 |    50/  233 batches | accuracy    0.860\n",
      "| epoch   4 |    75/  233 batches | accuracy    0.876\n",
      "| epoch   4 |   100/  233 batches | accuracy    0.880\n",
      "| epoch   4 |   125/  233 batches | accuracy    0.880\n",
      "| epoch   4 |   150/  233 batches | accuracy    0.886\n",
      "| epoch   4 |   175/  233 batches | accuracy    0.872\n",
      "| epoch   4 |   200/  233 batches | accuracy    0.869\n",
      "| epoch   4 |   225/  233 batches | accuracy    0.880\n",
      "-----------------------------------------------------------\n",
      "| End of epoch   4 | Time:  2.38s | Train Accuracy    0.865 | Train Loss    0.323 | Valid Accuracy    0.807 | Valid Loss    0.426 \n",
      "-----------------------------------------------------------\n",
      "| epoch   5 |    25/  233 batches | accuracy    0.884\n",
      "| epoch   5 |    50/  233 batches | accuracy    0.887\n",
      "| epoch   5 |    75/  233 batches | accuracy    0.880\n",
      "| epoch   5 |   100/  233 batches | accuracy    0.881\n",
      "| epoch   5 |   125/  233 batches | accuracy    0.887\n",
      "| epoch   5 |   150/  233 batches | accuracy    0.877\n",
      "| epoch   5 |   175/  233 batches | accuracy    0.868\n",
      "| epoch   5 |   200/  233 batches | accuracy    0.871\n",
      "| epoch   5 |   225/  233 batches | accuracy    0.877\n",
      "-----------------------------------------------------------\n",
      "| End of epoch   5 | Time:  2.41s | Train Accuracy    0.869 | Train Loss    0.314 | Valid Accuracy    0.852 | Valid Loss    0.360 \n",
      "-----------------------------------------------------------\n",
      "| epoch   6 |    25/  233 batches | accuracy    0.883\n",
      "| epoch   6 |    50/  233 batches | accuracy    0.875\n",
      "| epoch   6 |    75/  233 batches | accuracy    0.882\n",
      "| epoch   6 |   100/  233 batches | accuracy    0.886\n",
      "| epoch   6 |   125/  233 batches | accuracy    0.888\n",
      "| epoch   6 |   150/  233 batches | accuracy    0.882\n",
      "| epoch   6 |   175/  233 batches | accuracy    0.887\n",
      "| epoch   6 |   200/  233 batches | accuracy    0.878\n",
      "| epoch   6 |   225/  233 batches | accuracy    0.878\n",
      "-----------------------------------------------------------\n",
      "| End of epoch   6 | Time:  2.35s | Train Accuracy    0.887 | Train Loss    0.308 | Valid Accuracy    0.868 | Valid Loss    0.343 \n",
      "-----------------------------------------------------------\n",
      "| epoch   7 |    25/  233 batches | accuracy    0.879\n",
      "| epoch   7 |    50/  233 batches | accuracy    0.886\n",
      "| epoch   7 |    75/  233 batches | accuracy    0.883\n",
      "| epoch   7 |   100/  233 batches | accuracy    0.888\n",
      "| epoch   7 |   125/  233 batches | accuracy    0.885\n",
      "| epoch   7 |   150/  233 batches | accuracy    0.887\n",
      "| epoch   7 |   175/  233 batches | accuracy    0.887\n",
      "| epoch   7 |   200/  233 batches | accuracy    0.884\n",
      "| epoch   7 |   225/  233 batches | accuracy    0.884\n",
      "-----------------------------------------------------------\n",
      "| End of epoch   7 | Time:  2.36s | Train Accuracy    0.884 | Train Loss    0.303 | Valid Accuracy    0.854 | Valid Loss    0.358 \n",
      "-----------------------------------------------------------\n",
      "| epoch   8 |    25/  233 batches | accuracy    0.892\n",
      "| epoch   8 |    50/  233 batches | accuracy    0.880\n",
      "| epoch   8 |    75/  233 batches | accuracy    0.886\n",
      "| epoch   8 |   100/  233 batches | accuracy    0.888\n",
      "| epoch   8 |   125/  233 batches | accuracy    0.900\n",
      "| epoch   8 |   150/  233 batches | accuracy    0.892\n",
      "| epoch   8 |   175/  233 batches | accuracy    0.891\n",
      "| epoch   8 |   200/  233 batches | accuracy    0.880\n",
      "| epoch   8 |   225/  233 batches | accuracy    0.884\n",
      "-----------------------------------------------------------\n",
      "| End of epoch   8 | Time:  2.35s | Train Accuracy    0.882 | Train Loss    0.298 | Valid Accuracy    0.875 | Valid Loss    0.336 \n",
      "-----------------------------------------------------------\n",
      "| epoch   9 |    25/  233 batches | accuracy    0.896\n",
      "| epoch   9 |    50/  233 batches | accuracy    0.894\n",
      "| epoch   9 |    75/  233 batches | accuracy    0.879\n",
      "| epoch   9 |   100/  233 batches | accuracy    0.888\n",
      "| epoch   9 |   125/  233 batches | accuracy    0.893\n",
      "| epoch   9 |   150/  233 batches | accuracy    0.887\n",
      "| epoch   9 |   175/  233 batches | accuracy    0.883\n",
      "| epoch   9 |   200/  233 batches | accuracy    0.894\n",
      "| epoch   9 |   225/  233 batches | accuracy    0.883\n",
      "-----------------------------------------------------------\n",
      "| End of epoch   9 | Time:  2.02s | Train Accuracy    0.868 | Train Loss    0.296 | Valid Accuracy    0.866 | Valid Loss    0.347 \n",
      "-----------------------------------------------------------\n",
      "| epoch  10 |    25/  233 batches | accuracy    0.889\n",
      "| epoch  10 |    50/  233 batches | accuracy    0.882\n",
      "| epoch  10 |    75/  233 batches | accuracy    0.900\n",
      "| epoch  10 |   100/  233 batches | accuracy    0.892\n",
      "| epoch  10 |   125/  233 batches | accuracy    0.887\n",
      "| epoch  10 |   150/  233 batches | accuracy    0.885\n",
      "| epoch  10 |   175/  233 batches | accuracy    0.894\n",
      "| epoch  10 |   200/  233 batches | accuracy    0.882\n",
      "| epoch  10 |   225/  233 batches | accuracy    0.889\n",
      "-----------------------------------------------------------\n",
      "| End of epoch  10 | Time:  2.08s | Train Accuracy    0.874 | Train Loss    0.293 | Valid Accuracy    0.866 | Valid Loss    0.347 \n",
      "-----------------------------------------------------------\n"
     ]
    }
   ],
   "source": [
    "num_class = len(set(train_df_vi['label']))\n",
    "vocab_size = len(vocabulary)\n",
    "embed_dim = 100\n",
    "model = TextClassificationModel(vocab_size, embed_dim, num_class).to(device)\n",
    "\n",
    "learning_rate = 5\n",
    "criterion = torch.nn.CrossEntropyLoss()\n",
    "optimizer = torch.optim.SGD(model.parameters(), lr=learning_rate)\n",
    "\n",
    "num_epochs = 10\n",
    "for epoch in range(1, num_epochs+1):\n",
    "    epoch_start_time = time.time()\n",
    "    train_acc, train_loss = train(model, optimizer, criterion, train_dataloader, epoch)\n",
    "    eval_acc, eval_loss = evaluate(model, criterion, valid_dataloader)\n",
    "    print(\"-\" * 59)\n",
    "    print(\n",
    "        \"| End of epoch {:3d} | Time: {:5.2f}s | Train Accuracy {:8.3f} | Train Loss {:8.3f} \"\n",
    "        \"| Valid Accuracy {:8.3f} | Valid Loss {:8.3f} \".format(\n",
    "            epoch, time.time() - epoch_start_time, train_acc, train_loss, eval_acc, eval_loss\n",
    "        )\n",
    "    )\n",
    "    print(\"-\" * 59)"
   ]
  },
  {
   "cell_type": "markdown",
   "metadata": {},
   "source": [
    "# 10. Prediction"
   ]
  },
  {
   "cell_type": "code",
   "execution_count": 46,
   "metadata": {},
   "outputs": [],
   "source": [
    "model = model.to('cpu')"
   ]
  },
  {
   "cell_type": "code",
   "execution_count": 47,
   "metadata": {},
   "outputs": [],
   "source": [
    "def predict(text):\n",
    "    with torch.no_grad():\n",
    "        encoded = torch.tensor(vocabulary(tokenizer(text)))\n",
    "        output = model(encoded, torch.tensor([0]))\n",
    "        return output.argmax(1).item()"
   ]
  },
  {
   "cell_type": "code",
   "execution_count": 48,
   "metadata": {},
   "outputs": [
    {
     "data": {
      "text/plain": [
       "sentence               Quán này khá là nổi_tiếng nay mới có dịp ghé t...\n",
       "label                                                                  0\n",
       "preprocess_sentence    quán này khá là nổi tiếng nay mới có dịp ghé t...\n",
       "Name: 0, dtype: object"
      ]
     },
     "execution_count": 48,
     "metadata": {},
     "output_type": "execute_result"
    }
   ],
   "source": [
    "test_df.iloc[0]"
   ]
  },
  {
   "cell_type": "code",
   "execution_count": 49,
   "metadata": {},
   "outputs": [
    {
     "data": {
      "text/plain": [
       "0"
      ]
     },
     "execution_count": 49,
     "metadata": {},
     "output_type": "execute_result"
    }
   ],
   "source": [
    "predict(test_df.iloc[0]['sentence'])"
   ]
  },
  {
   "cell_type": "code",
   "execution_count": 50,
   "metadata": {},
   "outputs": [
    {
     "name": "stdout",
     "output_type": "stream",
     "text": [
      "Accuracy:  tensor(0.8722)\n"
     ]
    }
   ],
   "source": [
    "# compute accuracy on test set\n",
    "\n",
    "predictions, labels = [], []\n",
    "for index, row in test_df.iterrows():\n",
    "    sentence = row['preprocess_sentence']\n",
    "    label = row['label']\n",
    "    prediction = predict(sentence)\n",
    "    predictions.append(prediction)\n",
    "    labels.append(label)\n",
    "\n",
    "print('Accuracy: ', sum(torch.tensor(predictions) == torch.tensor(labels))/len(labels))"
   ]
  }
 ],
 "metadata": {
  "kernelspec": {
   "display_name": "Python 3",
   "language": "python",
   "name": "python3"
  },
  "language_info": {
   "codemirror_mode": {
    "name": "ipython",
    "version": 3
   },
   "file_extension": ".py",
   "mimetype": "text/x-python",
   "name": "python",
   "nbconvert_exporter": "python",
   "pygments_lexer": "ipython3",
   "version": "3.11.3"
  }
 },
 "nbformat": 4,
 "nbformat_minor": 2
}
